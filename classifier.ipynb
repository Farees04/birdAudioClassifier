{
 "cells": [
  {
   "cell_type": "code",
   "execution_count": 10,
   "metadata": {},
   "outputs": [],
   "source": [
    "import pandas as pd\n",
    "import matplotlib.pyplot as plt\n",
    "import librosa\n",
    "import numpy as np\n",
    "import tensorflow as tf"
   ]
  },
  {
   "cell_type": "code",
   "execution_count": 11,
   "metadata": {},
   "outputs": [
    {
     "data": {
      "text/html": [
       "<div>\n",
       "<style scoped>\n",
       "    .dataframe tbody tr th:only-of-type {\n",
       "        vertical-align: middle;\n",
       "    }\n",
       "\n",
       "    .dataframe tbody tr th {\n",
       "        vertical-align: top;\n",
       "    }\n",
       "\n",
       "    .dataframe thead th {\n",
       "        text-align: right;\n",
       "    }\n",
       "</style>\n",
       "<table border=\"1\" class=\"dataframe\">\n",
       "  <thead>\n",
       "    <tr style=\"text-align: right;\">\n",
       "      <th></th>\n",
       "      <th>id</th>\n",
       "      <th>genus</th>\n",
       "      <th>species</th>\n",
       "      <th>subspecies</th>\n",
       "      <th>name</th>\n",
       "      <th>recordist</th>\n",
       "      <th>country</th>\n",
       "      <th>location</th>\n",
       "      <th>latitude</th>\n",
       "      <th>longitude</th>\n",
       "      <th>altitude</th>\n",
       "      <th>sound_type</th>\n",
       "      <th>source_url</th>\n",
       "      <th>license</th>\n",
       "      <th>time</th>\n",
       "      <th>date</th>\n",
       "      <th>remarks</th>\n",
       "      <th>filename</th>\n",
       "    </tr>\n",
       "  </thead>\n",
       "  <tbody>\n",
       "    <tr>\n",
       "      <th>0</th>\n",
       "      <td>557838</td>\n",
       "      <td>Thryomanes</td>\n",
       "      <td>bewickii</td>\n",
       "      <td>NaN</td>\n",
       "      <td>Bewick's Wren</td>\n",
       "      <td>Whitney Neufeld-Kaiser</td>\n",
       "      <td>United States</td>\n",
       "      <td>Arlington, Snohomish County, Washington</td>\n",
       "      <td>48.0708</td>\n",
       "      <td>-122.1006</td>\n",
       "      <td>100</td>\n",
       "      <td>adult, sex uncertain, song</td>\n",
       "      <td>//www.xeno-canto.org/557838</td>\n",
       "      <td>//creativecommons.org/licenses/by-nc-sa/4.0/</td>\n",
       "      <td>11:51</td>\n",
       "      <td>2020-03-14</td>\n",
       "      <td>Recorded with Voice Record Pro on iPhone7, nor...</td>\n",
       "      <td>557838-0.wav</td>\n",
       "    </tr>\n",
       "    <tr>\n",
       "      <th>1</th>\n",
       "      <td>557838</td>\n",
       "      <td>Thryomanes</td>\n",
       "      <td>bewickii</td>\n",
       "      <td>NaN</td>\n",
       "      <td>Bewick's Wren</td>\n",
       "      <td>Whitney Neufeld-Kaiser</td>\n",
       "      <td>United States</td>\n",
       "      <td>Arlington, Snohomish County, Washington</td>\n",
       "      <td>48.0708</td>\n",
       "      <td>-122.1006</td>\n",
       "      <td>100</td>\n",
       "      <td>adult, sex uncertain, song</td>\n",
       "      <td>//www.xeno-canto.org/557838</td>\n",
       "      <td>//creativecommons.org/licenses/by-nc-sa/4.0/</td>\n",
       "      <td>11:51</td>\n",
       "      <td>2020-03-14</td>\n",
       "      <td>Recorded with Voice Record Pro on iPhone7, nor...</td>\n",
       "      <td>557838-1.wav</td>\n",
       "    </tr>\n",
       "  </tbody>\n",
       "</table>\n",
       "</div>"
      ],
      "text/plain": [
       "       id       genus   species subspecies           name  \\\n",
       "0  557838  Thryomanes  bewickii        NaN  Bewick's Wren   \n",
       "1  557838  Thryomanes  bewickii        NaN  Bewick's Wren   \n",
       "\n",
       "                recordist        country  \\\n",
       "0  Whitney Neufeld-Kaiser  United States   \n",
       "1  Whitney Neufeld-Kaiser  United States   \n",
       "\n",
       "                                  location  latitude  longitude altitude  \\\n",
       "0  Arlington, Snohomish County, Washington   48.0708  -122.1006      100   \n",
       "1  Arlington, Snohomish County, Washington   48.0708  -122.1006      100   \n",
       "\n",
       "                   sound_type                   source_url  \\\n",
       "0  adult, sex uncertain, song  //www.xeno-canto.org/557838   \n",
       "1  adult, sex uncertain, song  //www.xeno-canto.org/557838   \n",
       "\n",
       "                                        license   time        date  \\\n",
       "0  //creativecommons.org/licenses/by-nc-sa/4.0/  11:51  2020-03-14   \n",
       "1  //creativecommons.org/licenses/by-nc-sa/4.0/  11:51  2020-03-14   \n",
       "\n",
       "                                             remarks      filename  \n",
       "0  Recorded with Voice Record Pro on iPhone7, nor...  557838-0.wav  \n",
       "1  Recorded with Voice Record Pro on iPhone7, nor...  557838-1.wav  "
      ]
     },
     "execution_count": 11,
     "metadata": {},
     "output_type": "execute_result"
    }
   ],
   "source": [
    "df = pd.read_csv(\"bird_songs_metadata.csv\")\n",
    "df.head(2)"
   ]
  },
  {
   "cell_type": "code",
   "execution_count": 12,
   "metadata": {},
   "outputs": [
    {
     "name": "stdout",
     "output_type": "stream",
     "text": [
      "[\"Bewick's Wren\" 'Northern Mockingbird' 'American Robin' 'Song Sparrow'\n",
      " 'Northern Cardinal']\n"
     ]
    }
   ],
   "source": [
    "class_names = df[\"name\"].unique()\n",
    "print(class_names)"
   ]
  },
  {
   "cell_type": "code",
   "execution_count": 13,
   "metadata": {},
   "outputs": [
    {
     "data": {
      "text/plain": [
       "name\n",
       "Song Sparrow            1256\n",
       "Northern Mockingbird    1182\n",
       "Northern Cardinal       1074\n",
       "American Robin          1017\n",
       "Bewick's Wren            893\n",
       "Name: count, dtype: int64"
      ]
     },
     "execution_count": 13,
     "metadata": {},
     "output_type": "execute_result"
    }
   ],
   "source": [
    "df[\"name\"].value_counts()"
   ]
  },
  {
   "cell_type": "code",
   "execution_count": 14,
   "metadata": {},
   "outputs": [
    {
     "data": {
      "text/plain": [
       "<BarContainer object of 5 artists>"
      ]
     },
     "execution_count": 14,
     "metadata": {},
     "output_type": "execute_result"
    },
    {
     "data": {
      "image/png": "[encoded data removed]",
      "text/plain": [
       "<Figure size 1200x800 with 1 Axes>"
      ]
     },
     "metadata": {},
     "output_type": "display_data"
    }
   ],
   "source": [
    "fig, ax = plt.subplots(figsize=(12, 8))\n",
    "ax.bar(df[\"name\"].unique(), df[\"name\"].value_counts())"
   ]
  },
  {
   "cell_type": "code",
   "execution_count": 15,
   "metadata": {},
   "outputs": [],
   "source": [
    "def features_extractor(file):\n",
    "    audio, sample_rate = librosa.load(file, res_type='kaiser_fast') \n",
    "    mfccs_features = librosa.feature.mfcc(y=audio, sr=sample_rate, n_mfcc=40)\n",
    "    mfccs_scaled_features = np.mean(mfccs_features.T,axis=0)\n",
    "    \n",
    "    return mfccs_scaled_features"
   ]
  },
  {
   "cell_type": "code",
   "execution_count": 16,
   "metadata": {},
   "outputs": [],
   "source": [
    "path_to_wav = \"wavfiles/\"\n"
   ]
  },
  {
   "cell_type": "code",
   "execution_count": 17,
   "metadata": {},
   "outputs": [],
   "source": [
    "df_train = pd.DataFrame({\"name\": df[\"name\"], \"audiopath\": path_to_wav + df[\"filename\"]})"
   ]
  },
  {
   "cell_type": "code",
   "execution_count": 18,
   "metadata": {},
   "outputs": [],
   "source": [
    "df_train[\"mfccs_scaled_features\"] = df_train[\"audiopath\"].apply(lambda x: features_extractor(x))"
   ]
  },
  {
   "cell_type": "code",
   "execution_count": 19,
   "metadata": {},
   "outputs": [],
   "source": [
    "df_train[\"class\"] = df_train[\"name\"].factorize()[0]\n"
   ]
  },
  {
   "cell_type": "code",
   "execution_count": 20,
   "metadata": {},
   "outputs": [
    {
     "data": {
      "text/plain": [
       "(5422, 4)"
      ]
     },
     "execution_count": 20,
     "metadata": {},
     "output_type": "execute_result"
    }
   ],
   "source": [
    "from sklearn.utils import shuffle\n",
    "\n",
    "df_train = shuffle(df_train)\n",
    "df_train.shape"
   ]
  },
  {
   "cell_type": "code",
   "execution_count": 21,
   "metadata": {},
   "outputs": [],
   "source": [
    "(train_x, train_y) = df_train[\"mfccs_scaled_features\"][:5000].values, df_train[\"class\"][:5000].values\n",
    "(test_x, test_y) = df_train[\"mfccs_scaled_features\"][5000:].values, df_train[\"class\"][5000:].values"
   ]
  },
  {
   "cell_type": "code",
   "execution_count": 22,
   "metadata": {},
   "outputs": [],
   "source": [
    "from keras.utils import to_categorical\n",
    "\n",
    "test_y = to_categorical(test_y, num_classes=len(class_names))\n",
    "train_y = to_categorical(train_y, num_classes=len(class_names))"
   ]
  },
  {
   "cell_type": "code",
   "execution_count": 23,
   "metadata": {},
   "outputs": [],
   "source": [
    "train_x = np.stack(train_x[:])\n",
    "test_x = np.stack(test_x[:])\n",
    "\n",
    "train_x = tf.keras.utils.normalize(train_x)\n",
    "test_x = tf.keras.utils.normalize(test_x)\n",
    "\n",
    "train_dataset = tf.data.Dataset.from_tensor_slices((train_x, train_y))\n",
    "test_dataset = tf.data.Dataset.from_tensor_slices((test_x, test_y))"
   ]
  },
  {
   "cell_type": "code",
   "execution_count": 24,
   "metadata": {},
   "outputs": [
    {
     "data": {
      "text/plain": [
       "array([[-9.39625263e-01,  2.13235065e-01, -1.59667090e-01, ...,\n",
       "        -2.18557217e-03,  1.43336328e-02,  5.68661373e-03],\n",
       "       [-9.82911229e-01, -1.20876236e-02, -1.14133865e-01, ...,\n",
       "        -4.91501123e-04,  5.88002335e-03, -2.99082976e-03],\n",
       "       [-9.82163250e-01,  8.72182325e-02, -2.44642943e-02, ...,\n",
       "        -4.79284069e-03,  1.38140032e-02, -7.42887473e-03],\n",
       "       ...,\n",
       "       [-6.57373607e-01,  4.98357147e-01,  2.96554901e-02, ...,\n",
       "         7.03334901e-03,  2.31679436e-02, -8.14879965e-03],\n",
       "       [-5.95910311e-01, -6.09553158e-01, -4.88016307e-01, ...,\n",
       "         1.21540558e-02, -7.98020512e-03,  1.18428962e-02],\n",
       "       [-9.18960750e-01, -3.00251156e-01, -2.03702882e-01, ...,\n",
       "         2.83919880e-03, -4.60515684e-03,  2.02041529e-02]], dtype=float32)"
      ]
     },
     "execution_count": 24,
     "metadata": {},
     "output_type": "execute_result"
    }
   ],
   "source": [
    "train_x"
   ]
  },
  {
   "cell_type": "code",
   "execution_count": 25,
   "metadata": {},
   "outputs": [],
   "source": [
    "train_dataset = train_dataset.batch(10)\n",
    "test_dataset = test_dataset.batch(10)\n",
    "train_dataset = train_dataset.prefetch(tf.data.AUTOTUNE)\n",
    "test_dataset = test_dataset.prefetch(tf.data.AUTOTUNE)"
   ]
  },
  {
   "cell_type": "code",
   "execution_count": 26,
   "metadata": {},
   "outputs": [
    {
     "data": {
      "text/plain": [
       "(5000, 40)"
      ]
     },
     "execution_count": 26,
     "metadata": {},
     "output_type": "execute_result"
    }
   ],
   "source": [
    "train_x.shape"
   ]
  },
  {
   "cell_type": "code",
   "execution_count": 27,
   "metadata": {},
   "outputs": [],
   "source": [
    "import keras\n",
    "from keras.layers import Conv2D, MaxPooling2D, BatchNormalization, Flatten, Dense, Reshape, InputLayer, Dropout,Activation\n",
    "from keras.models import Sequential"
   ]
  },
  {
   "cell_type": "code",
   "execution_count": 28,
   "metadata": {},
   "outputs": [],
   "source": [
    "model=Sequential()\n",
    "###first layer\n",
    "model.add(Dense(100,input_shape=(40,)))\n",
    "model.add(Activation('relu'))\n",
    "model.add(Dropout(0.5))\n",
    "###second layer\n",
    "model.add(Dense(200))\n",
    "model.add(Activation('relu'))\n",
    "model.add(Dropout(0.5))\n",
    "###third layer\n",
    "model.add(Dense(100))\n",
    "model.add(Activation('relu'))\n",
    "model.add(Dropout(0.5))\n",
    "\n",
    "###final layer\n",
    "model.add(Dense(5))\n",
    "model.add(Activation('softmax'))"
   ]
  },
  {
   "cell_type": "code",
   "execution_count": 29,
   "metadata": {},
   "outputs": [
    {
     "name": "stdout",
     "output_type": "stream",
     "text": [
      "Model: \"sequential\"\n",
      "_________________________________________________________________\n",
      " Layer (type)                Output Shape              Param #   \n",
      "=================================================================\n",
      " dense (Dense)               (None, 100)               4100      \n",
      "                                                                 \n",
      " activation (Activation)     (None, 100)               0         \n",
      "                                                                 \n",
      " dropout (Dropout)           (None, 100)               0         \n",
      "                                                                 \n",
      " dense_1 (Dense)             (None, 200)               20200     \n",
      "                                                                 \n",
      " activation_1 (Activation)   (None, 200)               0         \n",
      "                                                                 \n",
      " dropout_1 (Dropout)         (None, 200)               0         \n",
      "                                                                 \n",
      " dense_2 (Dense)             (None, 100)               20100     \n",
      "                                                                 \n",
      " activation_2 (Activation)   (None, 100)               0         \n",
      "                                                                 \n",
      " dropout_2 (Dropout)         (None, 100)               0         \n",
      "                                                                 \n",
      " dense_3 (Dense)             (None, 5)                 505       \n",
      "                                                                 \n",
      " activation_3 (Activation)   (None, 5)                 0         \n",
      "                                                                 \n",
      "=================================================================\n",
      "Total params: 44,905\n",
      "Trainable params: 44,905\n",
      "Non-trainable params: 0\n",
      "_________________________________________________________________\n"
     ]
    }
   ],
   "source": [
    "model.summary()"
   ]
  },
  {
   "cell_type": "code",
   "execution_count": 30,
   "metadata": {},
   "outputs": [],
   "source": [
    "model.compile('adam', loss='categorical_crossentropy', metrics=[tf.keras.metrics.Recall(),tf.keras.metrics.Precision(), 'accuracy'])"
   ]
  },
  {
   "cell_type": "code",
   "execution_count": 31,
   "metadata": {},
   "outputs": [
    {
     "name": "stdout",
     "output_type": "stream",
     "text": [
      "Epoch 1/50\n",
      "500/500 [==============================] - 5s 5ms/step - loss: 1.4244 - recall: 0.0368 - precision: 0.5041 - accuracy: 0.3264 - val_loss: 1.1965 - val_recall: 0.0190 - val_precision: 0.8000 - val_accuracy: 0.4526\n",
      "Epoch 2/50\n",
      "500/500 [==============================] - 3s 5ms/step - loss: 1.1736 - recall: 0.1646 - precision: 0.5606 - accuracy: 0.4570 - val_loss: 1.0411 - val_recall: 0.2133 - val_precision: 0.7438 - val_accuracy: 0.5592\n",
      "Epoch 3/50\n",
      "500/500 [==============================] - 3s 7ms/step - loss: 1.0768 - recall: 0.2762 - precision: 0.5892 - accuracy: 0.5038 - val_loss: 1.0195 - val_recall: 0.3223 - val_precision: 0.6974 - val_accuracy: 0.5687\n",
      "Epoch 4/50\n",
      "500/500 [==============================] - 3s 6ms/step - loss: 1.0290 - recall: 0.3374 - precision: 0.6250 - accuracy: 0.5300 - val_loss: 0.9676 - val_recall: 0.3697 - val_precision: 0.7393 - val_accuracy: 0.5924\n",
      "Epoch 5/50\n",
      "500/500 [==============================] - 3s 6ms/step - loss: 0.9979 - recall: 0.3648 - precision: 0.6411 - accuracy: 0.5562 - val_loss: 0.9364 - val_recall: 0.4360 - val_precision: 0.7273 - val_accuracy: 0.6445\n",
      "Epoch 6/50\n",
      "500/500 [==============================] - 3s 6ms/step - loss: 0.9596 - recall: 0.4228 - precision: 0.6598 - accuracy: 0.5790 - val_loss: 0.8959 - val_recall: 0.4739 - val_precision: 0.7380 - val_accuracy: 0.6422\n",
      "Epoch 7/50\n",
      "500/500 [==============================] - 3s 7ms/step - loss: 0.9466 - recall: 0.4344 - precision: 0.6710 - accuracy: 0.5882 - val_loss: 0.8654 - val_recall: 0.4905 - val_precision: 0.7393 - val_accuracy: 0.6517\n",
      "Epoch 8/50\n",
      "500/500 [==============================] - 3s 7ms/step - loss: 0.9008 - recall: 0.4840 - precision: 0.6902 - accuracy: 0.6222 - val_loss: 0.8519 - val_recall: 0.5142 - val_precision: 0.7356 - val_accuracy: 0.6493\n",
      "Epoch 9/50\n",
      "500/500 [==============================] - 3s 6ms/step - loss: 0.8799 - recall: 0.5054 - precision: 0.7012 - accuracy: 0.6314 - val_loss: 0.8152 - val_recall: 0.5569 - val_precision: 0.7460 - val_accuracy: 0.6801\n",
      "Epoch 10/50\n",
      "500/500 [==============================] - 3s 6ms/step - loss: 0.8546 - recall: 0.5326 - precision: 0.7115 - accuracy: 0.6460 - val_loss: 0.7881 - val_recall: 0.5758 - val_precision: 0.7788 - val_accuracy: 0.7085\n",
      "Epoch 11/50\n",
      "500/500 [==============================] - 3s 6ms/step - loss: 0.8436 - recall: 0.5354 - precision: 0.7103 - accuracy: 0.6486 - val_loss: 0.7739 - val_recall: 0.5972 - val_precision: 0.7778 - val_accuracy: 0.6919\n",
      "Epoch 12/50\n",
      "500/500 [==============================] - 3s 6ms/step - loss: 0.8196 - recall: 0.5674 - precision: 0.7256 - accuracy: 0.6758 - val_loss: 0.7444 - val_recall: 0.6256 - val_precision: 0.7834 - val_accuracy: 0.7441\n",
      "Epoch 13/50\n",
      "500/500 [==============================] - 3s 6ms/step - loss: 0.7996 - recall: 0.5796 - precision: 0.7367 - accuracy: 0.6726 - val_loss: 0.7311 - val_recall: 0.6303 - val_precision: 0.7917 - val_accuracy: 0.7227\n",
      "Epoch 14/50\n",
      "500/500 [==============================] - 3s 6ms/step - loss: 0.7774 - recall: 0.5884 - precision: 0.7320 - accuracy: 0.6768 - val_loss: 0.7226 - val_recall: 0.6469 - val_precision: 0.7756 - val_accuracy: 0.7370\n",
      "Epoch 15/50\n",
      "500/500 [==============================] - 3s 6ms/step - loss: 0.7632 - recall: 0.6106 - precision: 0.7509 - accuracy: 0.6982 - val_loss: 0.6924 - val_recall: 0.6801 - val_precision: 0.8085 - val_accuracy: 0.7488\n",
      "Epoch 16/50\n",
      "500/500 [==============================] - 3s 6ms/step - loss: 0.7532 - recall: 0.6206 - precision: 0.7450 - accuracy: 0.6984 - val_loss: 0.6794 - val_recall: 0.6493 - val_precision: 0.8083 - val_accuracy: 0.7512\n",
      "Epoch 17/50\n",
      "500/500 [==============================] - 3s 6ms/step - loss: 0.7268 - recall: 0.6394 - precision: 0.7652 - accuracy: 0.7172 - val_loss: 0.6663 - val_recall: 0.6896 - val_precision: 0.7973 - val_accuracy: 0.7464\n",
      "Epoch 18/50\n",
      "500/500 [==============================] - 3s 6ms/step - loss: 0.7283 - recall: 0.6344 - precision: 0.7612 - accuracy: 0.7064 - val_loss: 0.6609 - val_recall: 0.6943 - val_precision: 0.8184 - val_accuracy: 0.7630\n",
      "Epoch 19/50\n",
      "500/500 [==============================] - 3s 6ms/step - loss: 0.7141 - recall: 0.6440 - precision: 0.7659 - accuracy: 0.7186 - val_loss: 0.6200 - val_recall: 0.7180 - val_precision: 0.8037 - val_accuracy: 0.7701\n",
      "Epoch 20/50\n",
      "500/500 [==============================] - 3s 6ms/step - loss: 0.7240 - recall: 0.6356 - precision: 0.7501 - accuracy: 0.7070 - val_loss: 0.6219 - val_recall: 0.7133 - val_precision: 0.8247 - val_accuracy: 0.7820\n",
      "Epoch 21/50\n",
      "500/500 [==============================] - 3s 6ms/step - loss: 0.6857 - recall: 0.6648 - precision: 0.7736 - accuracy: 0.7286 - val_loss: 0.6141 - val_recall: 0.7417 - val_precision: 0.8194 - val_accuracy: 0.7915\n",
      "Epoch 22/50\n",
      "500/500 [==============================] - 3s 6ms/step - loss: 0.6652 - recall: 0.6772 - precision: 0.7779 - accuracy: 0.7342 - val_loss: 0.6059 - val_recall: 0.7322 - val_precision: 0.8218 - val_accuracy: 0.7796\n",
      "Epoch 23/50\n",
      "500/500 [==============================] - 3s 6ms/step - loss: 0.6774 - recall: 0.6760 - precision: 0.7840 - accuracy: 0.7382 - val_loss: 0.5897 - val_recall: 0.7417 - val_precision: 0.8347 - val_accuracy: 0.7867\n",
      "Epoch 24/50\n",
      "500/500 [==============================] - 3s 6ms/step - loss: 0.6637 - recall: 0.6842 - precision: 0.7823 - accuracy: 0.7396 - val_loss: 0.5878 - val_recall: 0.7583 - val_precision: 0.8226 - val_accuracy: 0.7986\n",
      "Epoch 25/50\n",
      "500/500 [==============================] - 3s 6ms/step - loss: 0.6661 - recall: 0.6838 - precision: 0.7806 - accuracy: 0.7406 - val_loss: 0.5808 - val_recall: 0.7322 - val_precision: 0.8420 - val_accuracy: 0.7938\n",
      "Epoch 26/50\n",
      "500/500 [==============================] - 3s 6ms/step - loss: 0.6508 - recall: 0.6976 - precision: 0.7936 - accuracy: 0.7524 - val_loss: 0.5730 - val_recall: 0.7559 - val_precision: 0.8507 - val_accuracy: 0.7962\n",
      "Epoch 27/50\n",
      "500/500 [==============================] - 3s 6ms/step - loss: 0.6293 - recall: 0.7020 - precision: 0.7939 - accuracy: 0.7528 - val_loss: 0.5461 - val_recall: 0.7630 - val_precision: 0.8407 - val_accuracy: 0.8104\n",
      "Epoch 28/50\n",
      "500/500 [==============================] - 3s 6ms/step - loss: 0.6403 - recall: 0.7028 - precision: 0.7957 - accuracy: 0.7556 - val_loss: 0.5569 - val_recall: 0.7583 - val_precision: 0.8421 - val_accuracy: 0.8033\n",
      "Epoch 29/50\n",
      "500/500 [==============================] - 3s 6ms/step - loss: 0.6301 - recall: 0.6984 - precision: 0.7945 - accuracy: 0.7530 - val_loss: 0.5514 - val_recall: 0.7725 - val_precision: 0.8556 - val_accuracy: 0.8057\n",
      "Epoch 30/50\n",
      "500/500 [==============================] - 3s 6ms/step - loss: 0.6277 - recall: 0.7060 - precision: 0.7950 - accuracy: 0.7544 - val_loss: 0.5440 - val_recall: 0.7701 - val_precision: 0.8442 - val_accuracy: 0.8033\n",
      "Epoch 31/50\n",
      "500/500 [==============================] - 3s 6ms/step - loss: 0.6195 - recall: 0.7086 - precision: 0.7942 - accuracy: 0.7572 - val_loss: 0.5347 - val_recall: 0.7725 - val_precision: 0.8402 - val_accuracy: 0.8104\n",
      "Epoch 32/50\n",
      "500/500 [==============================] - 3s 6ms/step - loss: 0.6189 - recall: 0.7106 - precision: 0.7943 - accuracy: 0.7612 - val_loss: 0.5275 - val_recall: 0.7725 - val_precision: 0.8380 - val_accuracy: 0.8128\n",
      "Epoch 33/50\n",
      "500/500 [==============================] - 3s 6ms/step - loss: 0.6156 - recall: 0.7214 - precision: 0.8039 - accuracy: 0.7658 - val_loss: 0.5381 - val_recall: 0.7725 - val_precision: 0.8534 - val_accuracy: 0.8104\n",
      "Epoch 34/50\n",
      "500/500 [==============================] - 3s 6ms/step - loss: 0.5937 - recall: 0.7288 - precision: 0.8114 - accuracy: 0.7750 - val_loss: 0.5278 - val_recall: 0.7962 - val_precision: 0.8442 - val_accuracy: 0.8223\n",
      "Epoch 35/50\n",
      "500/500 [==============================] - 3s 7ms/step - loss: 0.5938 - recall: 0.7370 - precision: 0.8127 - accuracy: 0.7778 - val_loss: 0.5266 - val_recall: 0.7678 - val_precision: 0.8526 - val_accuracy: 0.8152\n",
      "Epoch 36/50\n",
      "500/500 [==============================] - 3s 6ms/step - loss: 0.5893 - recall: 0.7246 - precision: 0.8064 - accuracy: 0.7696 - val_loss: 0.5242 - val_recall: 0.7654 - val_precision: 0.8455 - val_accuracy: 0.7986\n",
      "Epoch 37/50\n",
      "500/500 [==============================] - 3s 6ms/step - loss: 0.5866 - recall: 0.7286 - precision: 0.8083 - accuracy: 0.7756 - val_loss: 0.5030 - val_recall: 0.7915 - val_precision: 0.8542 - val_accuracy: 0.8199\n",
      "Epoch 38/50\n",
      "500/500 [==============================] - 3s 6ms/step - loss: 0.5834 - recall: 0.7332 - precision: 0.8174 - accuracy: 0.7774 - val_loss: 0.5139 - val_recall: 0.7773 - val_precision: 0.8497 - val_accuracy: 0.8223\n",
      "Epoch 39/50\n",
      "500/500 [==============================] - 3s 6ms/step - loss: 0.5687 - recall: 0.7430 - precision: 0.8181 - accuracy: 0.7850 - val_loss: 0.4988 - val_recall: 0.8128 - val_precision: 0.8640 - val_accuracy: 0.8341\n",
      "Epoch 40/50\n",
      "500/500 [==============================] - 3s 6ms/step - loss: 0.5830 - recall: 0.7328 - precision: 0.8076 - accuracy: 0.7746 - val_loss: 0.5018 - val_recall: 0.7962 - val_precision: 0.8485 - val_accuracy: 0.8270\n",
      "Epoch 41/50\n",
      "500/500 [==============================] - 3s 6ms/step - loss: 0.5659 - recall: 0.7464 - precision: 0.8195 - accuracy: 0.7842 - val_loss: 0.4751 - val_recall: 0.7962 - val_precision: 0.8528 - val_accuracy: 0.8223\n",
      "Epoch 42/50\n",
      "500/500 [==============================] - 3s 6ms/step - loss: 0.5787 - recall: 0.7384 - precision: 0.8170 - accuracy: 0.7816 - val_loss: 0.4845 - val_recall: 0.7986 - val_precision: 0.8597 - val_accuracy: 0.8223\n",
      "Epoch 43/50\n",
      "500/500 [==============================] - 3s 6ms/step - loss: 0.5600 - recall: 0.7514 - precision: 0.8176 - accuracy: 0.7886 - val_loss: 0.4881 - val_recall: 0.8057 - val_precision: 0.8696 - val_accuracy: 0.8365\n",
      "Epoch 44/50\n",
      "500/500 [==============================] - 3s 6ms/step - loss: 0.5586 - recall: 0.7526 - precision: 0.8214 - accuracy: 0.7900 - val_loss: 0.4851 - val_recall: 0.8128 - val_precision: 0.8706 - val_accuracy: 0.8412\n",
      "Epoch 45/50\n",
      "500/500 [==============================] - 3s 6ms/step - loss: 0.5413 - recall: 0.7540 - precision: 0.8251 - accuracy: 0.7932 - val_loss: 0.4606 - val_recall: 0.8175 - val_precision: 0.8647 - val_accuracy: 0.8389\n",
      "Epoch 46/50\n",
      "500/500 [==============================] - 3s 7ms/step - loss: 0.5552 - recall: 0.7528 - precision: 0.8208 - accuracy: 0.7874 - val_loss: 0.4633 - val_recall: 0.8152 - val_precision: 0.8731 - val_accuracy: 0.8436\n",
      "Epoch 47/50\n",
      "500/500 [==============================] - 3s 7ms/step - loss: 0.5465 - recall: 0.7504 - precision: 0.8173 - accuracy: 0.7912 - val_loss: 0.4706 - val_recall: 0.7962 - val_precision: 0.8550 - val_accuracy: 0.8318\n",
      "Epoch 48/50\n",
      "500/500 [==============================] - 3s 6ms/step - loss: 0.5703 - recall: 0.7452 - precision: 0.8175 - accuracy: 0.7836 - val_loss: 0.4808 - val_recall: 0.8081 - val_precision: 0.8568 - val_accuracy: 0.8341\n",
      "Epoch 49/50\n",
      "500/500 [==============================] - 3s 6ms/step - loss: 0.5309 - recall: 0.7616 - precision: 0.8262 - accuracy: 0.7970 - val_loss: 0.4588 - val_recall: 0.8152 - val_precision: 0.8557 - val_accuracy: 0.8412\n",
      "Epoch 50/50\n",
      "500/500 [==============================] - 3s 6ms/step - loss: 0.5250 - recall: 0.7632 - precision: 0.8297 - accuracy: 0.7988 - val_loss: 0.4522 - val_recall: 0.8033 - val_precision: 0.8604 - val_accuracy: 0.8246\n"
     ]
    }
   ],
   "source": [
    "classifier = model.fit(train_dataset, epochs=50, validation_data=test_dataset)"
   ]
  },
  {
   "cell_type": "code",
   "execution_count": 32,
   "metadata": {},
   "outputs": [],
   "source": [
    "model.save(\"model.h5\")  # Save model"
   ]
  },
  {
   "cell_type": "code",
   "execution_count": 33,
   "metadata": {},
   "outputs": [
    {
     "name": "stdout",
     "output_type": "stream",
     "text": [
      "['loss', 'recall', 'precision', 'accuracy']\n"
     ]
    }
   ],
   "source": [
    "print(model.metrics_names)"
   ]
  },
  {
   "cell_type": "code",
   "execution_count": 34,
   "metadata": {},
   "outputs": [
    {
     "name": "stdout",
     "output_type": "stream",
     "text": [
      "14/14 [==============================] - 0s 2ms/step\n"
     ]
    }
   ],
   "source": [
    "pred_y = model.predict(test_x)\n",
    "true_y = test_y.argmax(axis=1, keepdims=True)"
   ]
  },
  {
   "cell_type": "code",
   "execution_count": 35,
   "metadata": {},
   "outputs": [
    {
     "data": {
      "image/png": "[encoded data removed]",
      "text/plain": [
       "<Figure size 640x480 with 1 Axes>"
      ]
     },
     "metadata": {},
     "output_type": "display_data"
    }
   ],
   "source": [
    "plt.title('Loss')\n",
    "plt.plot(classifier.history['loss'], 'r', label='Overall Loss')\n",
    "plt.plot(classifier.history['val_loss'], 'b', label='Loss Value per Epoch')\n",
    "plt.xlabel('Epoch')\n",
    "plt.ylabel('Value')\n",
    "plt.legend()\n",
    "plt.show()"
   ]
  },
  {
   "cell_type": "code",
   "execution_count": 39,
   "metadata": {},
   "outputs": [
    {
     "data": {
      "image/png": "[encoded data removed]",
      "text/plain": [
       "<Figure size 640x480 with 1 Axes>"
      ]
     },
     "metadata": {},
     "output_type": "display_data"
    }
   ],
   "source": [
    "plt.title('Precision')\n",
    "plt.plot(classifier.history['precision'], 'r', label='Overall Precision')\n",
    "plt.plot(classifier.history['val_precision'], 'b', label='Precision Value per Epoch')\n",
    "plt.xlabel('Epoch')\n",
    "plt.ylabel('Value')\n",
    "plt.legend()\n",
    "plt.show()"
   ]
  },
  {
   "cell_type": "code",
   "execution_count": 40,
   "metadata": {},
   "outputs": [
    {
     "name": "stdout",
     "output_type": "stream",
     "text": [
      "1/1 [==============================] - 0s 21ms/step\n",
      "[3]\n",
      "Song Sparrow\n"
     ]
    }
   ],
   "source": [
    "#manual testing for random\n",
    "audio_file = 'wavfiles/111649-2.wav'\n",
    "feature = features_extractor(audio_file)\n",
    "mfccs_scaled_features=feature.reshape(1,-1)\n",
    "normalized_data = tf.keras.utils.normalize(mfccs_scaled_features)\n",
    "\n",
    "bird_list = [\"Bewick's Wren\", \"Northern Mockingbird\", \"American Robin\", \"Song Sparrow\", \"Northern Cardinal\"]\n",
    "\n",
    "test=model.predict(normalized_data)\n",
    "predicted_class = np.argmax(test, axis=1)\n",
    "print(predicted_class)\n",
    "predicted_bird = bird_list[predicted_class[0]]\n",
    "print(predicted_bird)\n",
    "# print(test[0][0])\n",
    "\n",
    "# print(test)"
   ]
  },
  {
   "cell_type": "code",
   "execution_count": null,
   "metadata": {},
   "outputs": [],
   "source": []
  }
 ],
 "metadata": {
  "kernelspec": {
   "display_name": "birdSound",
   "language": "python",
   "name": "python3"
  },
  "language_info": {
   "codemirror_mode": {
    "name": "ipython",
    "version": 3
   },
   "file_extension": ".py",
   "mimetype": "text/x-python",
   "name": "python",
   "nbconvert_exporter": "python",
   "pygments_lexer": "ipython3",
   "version": "3.8.19"
  }
 },
 "nbformat": 4,
 "nbformat_minor": 2
}
