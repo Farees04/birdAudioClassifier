{
 "cells": [
  {
   "cell_type": "code",
   "execution_count": 152,
   "metadata": {},
   "outputs": [],
   "source": [
    "import pandas as pd\n",
    "import matplotlib.pyplot as plt\n",
    "import librosa\n",
    "import numpy as np\n",
    "import tensorflow as tf"
   ]
  },
  {
   "cell_type": "code",
   "execution_count": 153,
   "metadata": {},
   "outputs": [
    {
     "data": {
      "text/html": [
       "<div>\n",
       "<style scoped>\n",
       "    .dataframe tbody tr th:only-of-type {\n",
       "        vertical-align: middle;\n",
       "    }\n",
       "\n",
       "    .dataframe tbody tr th {\n",
       "        vertical-align: top;\n",
       "    }\n",
       "\n",
       "    .dataframe thead th {\n",
       "        text-align: right;\n",
       "    }\n",
       "</style>\n",
       "<table border=\"1\" class=\"dataframe\">\n",
       "  <thead>\n",
       "    <tr style=\"text-align: right;\">\n",
       "      <th></th>\n",
       "      <th>id</th>\n",
       "      <th>genus</th>\n",
       "      <th>species</th>\n",
       "      <th>subspecies</th>\n",
       "      <th>name</th>\n",
       "      <th>recordist</th>\n",
       "      <th>country</th>\n",
       "      <th>location</th>\n",
       "      <th>latitude</th>\n",
       "      <th>longitude</th>\n",
       "      <th>altitude</th>\n",
       "      <th>sound_type</th>\n",
       "      <th>source_url</th>\n",
       "      <th>license</th>\n",
       "      <th>time</th>\n",
       "      <th>date</th>\n",
       "      <th>remarks</th>\n",
       "      <th>filename</th>\n",
       "    </tr>\n",
       "  </thead>\n",
       "  <tbody>\n",
       "    <tr>\n",
       "      <th>0</th>\n",
       "      <td>557838</td>\n",
       "      <td>Thryomanes</td>\n",
       "      <td>bewickii</td>\n",
       "      <td>NaN</td>\n",
       "      <td>Bewick's Wren</td>\n",
       "      <td>Whitney Neufeld-Kaiser</td>\n",
       "      <td>United States</td>\n",
       "      <td>Arlington, Snohomish County, Washington</td>\n",
       "      <td>48.0708</td>\n",
       "      <td>-122.1006</td>\n",
       "      <td>100</td>\n",
       "      <td>adult, sex uncertain, song</td>\n",
       "      <td>//www.xeno-canto.org/557838</td>\n",
       "      <td>//creativecommons.org/licenses/by-nc-sa/4.0/</td>\n",
       "      <td>11:51</td>\n",
       "      <td>2020-03-14</td>\n",
       "      <td>Recorded with Voice Record Pro on iPhone7, nor...</td>\n",
       "      <td>557838-0.wav</td>\n",
       "    </tr>\n",
       "    <tr>\n",
       "      <th>1</th>\n",
       "      <td>557838</td>\n",
       "      <td>Thryomanes</td>\n",
       "      <td>bewickii</td>\n",
       "      <td>NaN</td>\n",
       "      <td>Bewick's Wren</td>\n",
       "      <td>Whitney Neufeld-Kaiser</td>\n",
       "      <td>United States</td>\n",
       "      <td>Arlington, Snohomish County, Washington</td>\n",
       "      <td>48.0708</td>\n",
       "      <td>-122.1006</td>\n",
       "      <td>100</td>\n",
       "      <td>adult, sex uncertain, song</td>\n",
       "      <td>//www.xeno-canto.org/557838</td>\n",
       "      <td>//creativecommons.org/licenses/by-nc-sa/4.0/</td>\n",
       "      <td>11:51</td>\n",
       "      <td>2020-03-14</td>\n",
       "      <td>Recorded with Voice Record Pro on iPhone7, nor...</td>\n",
       "      <td>557838-1.wav</td>\n",
       "    </tr>\n",
       "  </tbody>\n",
       "</table>\n",
       "</div>"
      ],
      "text/plain": [
       "       id       genus   species subspecies           name  \\\n",
       "0  557838  Thryomanes  bewickii        NaN  Bewick's Wren   \n",
       "1  557838  Thryomanes  bewickii        NaN  Bewick's Wren   \n",
       "\n",
       "                recordist        country  \\\n",
       "0  Whitney Neufeld-Kaiser  United States   \n",
       "1  Whitney Neufeld-Kaiser  United States   \n",
       "\n",
       "                                  location  latitude  longitude altitude  \\\n",
       "0  Arlington, Snohomish County, Washington   48.0708  -122.1006      100   \n",
       "1  Arlington, Snohomish County, Washington   48.0708  -122.1006      100   \n",
       "\n",
       "                   sound_type                   source_url  \\\n",
       "0  adult, sex uncertain, song  //www.xeno-canto.org/557838   \n",
       "1  adult, sex uncertain, song  //www.xeno-canto.org/557838   \n",
       "\n",
       "                                        license   time        date  \\\n",
       "0  //creativecommons.org/licenses/by-nc-sa/4.0/  11:51  2020-03-14   \n",
       "1  //creativecommons.org/licenses/by-nc-sa/4.0/  11:51  2020-03-14   \n",
       "\n",
       "                                             remarks      filename  \n",
       "0  Recorded with Voice Record Pro on iPhone7, nor...  557838-0.wav  \n",
       "1  Recorded with Voice Record Pro on iPhone7, nor...  557838-1.wav  "
      ]
     },
     "execution_count": 153,
     "metadata": {},
     "output_type": "execute_result"
    }
   ],
   "source": [
    "df = pd.read_csv(\"bird_songs_metadata.csv\")\n",
    "df.head(2)"
   ]
  },
  {
   "cell_type": "code",
   "execution_count": 154,
   "metadata": {},
   "outputs": [
    {
     "name": "stdout",
     "output_type": "stream",
     "text": [
      "[\"Bewick's Wren\" 'Northern Mockingbird' 'American Robin' 'Song Sparrow'\n",
      " 'Northern Cardinal']\n"
     ]
    }
   ],
   "source": [
    "class_names = df[\"name\"].unique()\n",
    "print(class_names)"
   ]
  },
  {
   "cell_type": "code",
   "execution_count": 155,
   "metadata": {},
   "outputs": [
    {
     "data": {
      "text/plain": [
       "name\n",
       "Song Sparrow            1256\n",
       "Northern Mockingbird    1182\n",
       "Northern Cardinal       1074\n",
       "American Robin          1017\n",
       "Bewick's Wren            893\n",
       "Name: count, dtype: int64"
      ]
     },
     "execution_count": 155,
     "metadata": {},
     "output_type": "execute_result"
    }
   ],
   "source": [
    "df[\"name\"].value_counts()"
   ]
  },
  {
   "cell_type": "code",
   "execution_count": 156,
   "metadata": {},
   "outputs": [
    {
     "data": {
      "text/plain": [
       "<BarContainer object of 5 artists>"
      ]
     },
     "execution_count": 156,
     "metadata": {},
     "output_type": "execute_result"
    },
    {
     "data": {
      "image/png": "[encoded data removed]",
      "text/plain": [
       "<Figure size 1200x800 with 1 Axes>"
      ]
     },
     "metadata": {},
     "output_type": "display_data"
    }
   ],
   "source": [
    "fig, ax = plt.subplots(figsize=(12, 8))\n",
    "ax.bar(df[\"name\"].unique(), df[\"name\"].value_counts())"
   ]
  },
  {
   "cell_type": "code",
   "execution_count": 157,
   "metadata": {},
   "outputs": [],
   "source": [
    "def features_extractor(file):\n",
    "    audio, sample_rate = librosa.load(file, res_type='kaiser_fast') \n",
    "    mfccs_features = librosa.feature.mfcc(y=audio, sr=sample_rate, n_mfcc=40)\n",
    "    mfccs_scaled_features = np.mean(mfccs_features.T,axis=0)\n",
    "    \n",
    "    return mfccs_scaled_features"
   ]
  },
  {
   "cell_type": "code",
   "execution_count": 158,
   "metadata": {},
   "outputs": [],
   "source": [
    "path_to_wav = \"wavfiles/\"\n"
   ]
  },
  {
   "cell_type": "code",
   "execution_count": 159,
   "metadata": {},
   "outputs": [],
   "source": [
    "df_train = pd.DataFrame({\"name\": df[\"name\"], \"audiopath\": path_to_wav + df[\"filename\"]})"
   ]
  },
  {
   "cell_type": "code",
   "execution_count": 160,
   "metadata": {},
   "outputs": [],
   "source": [
    "df_train[\"mfccs_scaled_features\"] = df_train[\"audiopath\"].apply(lambda x: features_extractor(x))"
   ]
  },
  {
   "cell_type": "code",
   "execution_count": 161,
   "metadata": {},
   "outputs": [],
   "source": [
    "df_train[\"class\"] = df_train[\"name\"].factorize()[0]\n"
   ]
  },
  {
   "cell_type": "code",
   "execution_count": 162,
   "metadata": {},
   "outputs": [
    {
     "data": {
      "text/plain": [
       "(5422, 4)"
      ]
     },
     "execution_count": 162,
     "metadata": {},
     "output_type": "execute_result"
    }
   ],
   "source": [
    "from sklearn.utils import shuffle\n",
    "\n",
    "df_train = shuffle(df_train)\n",
    "df_train.shape"
   ]
  },
  {
   "cell_type": "code",
   "execution_count": 163,
   "metadata": {},
   "outputs": [],
   "source": [
    "(train_x, train_y) = df_train[\"mfccs_scaled_features\"][:5000].values, df_train[\"class\"][:5000].values\n",
    "(test_x, test_y) = df_train[\"mfccs_scaled_features\"][5000:].values, df_train[\"class\"][5000:].values"
   ]
  },
  {
   "cell_type": "code",
   "execution_count": 164,
   "metadata": {},
   "outputs": [],
   "source": [
    "from keras.utils import to_categorical\n",
    "\n",
    "test_y = to_categorical(test_y, num_classes=len(class_names))\n",
    "train_y = to_categorical(train_y, num_classes=len(class_names))"
   ]
  },
  {
   "cell_type": "code",
   "execution_count": 165,
   "metadata": {},
   "outputs": [],
   "source": [
    "train_x = np.stack(train_x[:])\n",
    "test_x = np.stack(test_x[:])\n",
    "\n",
    "train_x = tf.keras.utils.normalize(train_x)\n",
    "test_x = tf.keras.utils.normalize(test_x)\n",
    "\n",
    "train_dataset = tf.data.Dataset.from_tensor_slices((train_x, train_y))\n",
    "test_dataset = tf.data.Dataset.from_tensor_slices((test_x, test_y))"
   ]
  },
  {
   "cell_type": "code",
   "execution_count": 166,
   "metadata": {},
   "outputs": [
    {
     "data": {
      "text/plain": [
       "array([[-9.3520218e-01,  5.9624951e-02, -2.9854071e-01, ...,\n",
       "         1.2197710e-02, -8.0190031e-03,  6.5431953e-03],\n",
       "       [-9.7786337e-01, -5.3444453e-02, -1.4601707e-01, ...,\n",
       "         2.3076115e-03, -1.0761274e-02, -1.4986794e-03],\n",
       "       [-8.8177937e-01, -6.0313415e-02, -3.9227685e-01, ...,\n",
       "        -3.1483148e-03, -1.9672863e-02, -1.0297801e-03],\n",
       "       ...,\n",
       "       [-9.2531979e-01,  2.4179845e-01,  1.1150832e-02, ...,\n",
       "         1.2551511e-02, -6.6921334e-03,  8.4235723e-04],\n",
       "       [-8.5254401e-01,  3.6004874e-01, -1.3371129e-01, ...,\n",
       "         9.6243182e-03, -3.7914693e-02,  1.1684658e-03],\n",
       "       [-9.8154718e-01,  1.5797513e-03, -1.5284239e-01, ...,\n",
       "         5.5288216e-03,  5.1762871e-03, -6.0055899e-03]], dtype=float32)"
      ]
     },
     "execution_count": 166,
     "metadata": {},
     "output_type": "execute_result"
    }
   ],
   "source": [
    "train_x"
   ]
  },
  {
   "cell_type": "code",
   "execution_count": 167,
   "metadata": {},
   "outputs": [],
   "source": [
    "train_dataset = train_dataset.batch(10)\n",
    "test_dataset = test_dataset.batch(10)\n",
    "train_dataset = train_dataset.prefetch(tf.data.AUTOTUNE)\n",
    "test_dataset = test_dataset.prefetch(tf.data.AUTOTUNE)"
   ]
  },
  {
   "cell_type": "code",
   "execution_count": 168,
   "metadata": {},
   "outputs": [
    {
     "data": {
      "text/plain": [
       "(5000, 40)"
      ]
     },
     "execution_count": 168,
     "metadata": {},
     "output_type": "execute_result"
    }
   ],
   "source": [
    "train_x.shape"
   ]
  },
  {
   "cell_type": "code",
   "execution_count": 169,
   "metadata": {},
   "outputs": [],
   "source": [
    "import keras\n",
    "from keras.layers import Conv2D, MaxPooling2D, BatchNormalization, Flatten, Dense, Reshape, InputLayer, Dropout,Activation\n",
    "from keras.models import Sequential"
   ]
  },
  {
   "cell_type": "code",
   "execution_count": 170,
   "metadata": {},
   "outputs": [],
   "source": [
    "model=Sequential()\n",
    "###first layer\n",
    "model.add(Dense(100,input_shape=(40,)))\n",
    "model.add(Activation('relu'))\n",
    "model.add(Dropout(0.5))\n",
    "###second layer\n",
    "model.add(Dense(200))\n",
    "model.add(Activation('relu'))\n",
    "model.add(Dropout(0.5))\n",
    "###third layer\n",
    "model.add(Dense(100))\n",
    "model.add(Activation('relu'))\n",
    "model.add(Dropout(0.5))\n",
    "\n",
    "###final layer\n",
    "model.add(Dense(5))\n",
    "model.add(Activation('softmax'))"
   ]
  },
  {
   "cell_type": "code",
   "execution_count": 171,
   "metadata": {},
   "outputs": [
    {
     "name": "stdout",
     "output_type": "stream",
     "text": [
      "Model: \"sequential_9\"\n",
      "_________________________________________________________________\n",
      " Layer (type)                Output Shape              Param #   \n",
      "=================================================================\n",
      " dense_21 (Dense)            (None, 100)               4100      \n",
      "                                                                 \n",
      " activation_19 (Activation)  (None, 100)               0         \n",
      "                                                                 \n",
      " dropout_16 (Dropout)        (None, 100)               0         \n",
      "                                                                 \n",
      " dense_22 (Dense)            (None, 200)               20200     \n",
      "                                                                 \n",
      " activation_20 (Activation)  (None, 200)               0         \n",
      "                                                                 \n",
      " dropout_17 (Dropout)        (None, 200)               0         \n",
      "                                                                 \n",
      " dense_23 (Dense)            (None, 100)               20100     \n",
      "                                                                 \n",
      " activation_21 (Activation)  (None, 100)               0         \n",
      "                                                                 \n",
      " dropout_18 (Dropout)        (None, 100)               0         \n",
      "                                                                 \n",
      " dense_24 (Dense)            (None, 5)                 505       \n",
      "                                                                 \n",
      " activation_22 (Activation)  (None, 5)                 0         \n",
      "                                                                 \n",
      "=================================================================\n",
      "Total params: 44,905\n",
      "Trainable params: 44,905\n",
      "Non-trainable params: 0\n",
      "_________________________________________________________________\n"
     ]
    }
   ],
   "source": [
    "model.summary()"
   ]
  },
  {
   "cell_type": "code",
   "execution_count": 172,
   "metadata": {},
   "outputs": [],
   "source": [
    "model.compile('adam', loss='categorical_crossentropy', metrics=[tf.keras.metrics.Recall(),tf.keras.metrics.Precision(), 'accuracy'])"
   ]
  },
  {
   "cell_type": "code",
   "execution_count": 173,
   "metadata": {},
   "outputs": [
    {
     "name": "stdout",
     "output_type": "stream",
     "text": [
      "Epoch 1/50\n",
      "500/500 [==============================] - 7s 12ms/step - loss: 1.4278 - recall_6: 0.0414 - precision_6: 0.5201 - accuracy: 0.3306 - val_loss: 1.1596 - val_recall_6: 0.0474 - val_precision_6: 0.7407 - val_accuracy: 0.4645\n",
      "Epoch 2/50\n",
      "500/500 [==============================] - 6s 11ms/step - loss: 1.1479 - recall_6: 0.2140 - precision_6: 0.5716 - accuracy: 0.4704 - val_loss: 1.0248 - val_recall_6: 0.2583 - val_precision_6: 0.6606 - val_accuracy: 0.5474\n",
      "Epoch 3/50\n",
      "500/500 [==============================] - 6s 11ms/step - loss: 1.0569 - recall_6: 0.3168 - precision_6: 0.6128 - accuracy: 0.5210 - val_loss: 0.9824 - val_recall_6: 0.3436 - val_precision_6: 0.6776 - val_accuracy: 0.5711\n",
      "Epoch 4/50\n",
      "500/500 [==============================] - 6s 11ms/step - loss: 1.0241 - recall_6: 0.3510 - precision_6: 0.6281 - accuracy: 0.5424 - val_loss: 0.9334 - val_recall_6: 0.4242 - val_precision_6: 0.6885 - val_accuracy: 0.6043\n",
      "Epoch 5/50\n",
      "500/500 [==============================] - 6s 12ms/step - loss: 1.0004 - recall_6: 0.3822 - precision_6: 0.6355 - accuracy: 0.5580 - val_loss: 0.9384 - val_recall_6: 0.4526 - val_precision_6: 0.7022 - val_accuracy: 0.6043\n",
      "Epoch 6/50\n",
      "500/500 [==============================] - 6s 12ms/step - loss: 0.9679 - recall_6: 0.4060 - precision_6: 0.6481 - accuracy: 0.5718 - val_loss: 0.8902 - val_recall_6: 0.4645 - val_precision_6: 0.7259 - val_accuracy: 0.6303\n",
      "Epoch 7/50\n",
      "500/500 [==============================] - 6s 12ms/step - loss: 0.9509 - recall_6: 0.4318 - precision_6: 0.6566 - accuracy: 0.5822 - val_loss: 0.8574 - val_recall_6: 0.5166 - val_precision_6: 0.7219 - val_accuracy: 0.6469\n",
      "Epoch 8/50\n",
      "500/500 [==============================] - 7s 15ms/step - loss: 0.9345 - recall_6: 0.4524 - precision_6: 0.6692 - accuracy: 0.5878 - val_loss: 0.8407 - val_recall_6: 0.5237 - val_precision_6: 0.7083 - val_accuracy: 0.6540\n",
      "Epoch 9/50\n",
      "500/500 [==============================] - 12s 24ms/step - loss: 0.9164 - recall_6: 0.4708 - precision_6: 0.6776 - accuracy: 0.6056 - val_loss: 0.8204 - val_recall_6: 0.5521 - val_precision_6: 0.7236 - val_accuracy: 0.6659\n",
      "Epoch 10/50\n",
      "500/500 [==============================] - 8s 15ms/step - loss: 0.8908 - recall_6: 0.5038 - precision_6: 0.6947 - accuracy: 0.6318 - val_loss: 0.7953 - val_recall_6: 0.5877 - val_precision_6: 0.7654 - val_accuracy: 0.6943\n",
      "Epoch 11/50\n",
      "500/500 [==============================] - 6s 12ms/step - loss: 0.8785 - recall_6: 0.5086 - precision_6: 0.6986 - accuracy: 0.6292 - val_loss: 0.8086 - val_recall_6: 0.5711 - val_precision_6: 0.7579 - val_accuracy: 0.6777\n",
      "Epoch 12/50\n",
      "500/500 [==============================] - 6s 12ms/step - loss: 0.8416 - recall_6: 0.5422 - precision_6: 0.7093 - accuracy: 0.6460 - val_loss: 0.7642 - val_recall_6: 0.6209 - val_precision_6: 0.7464 - val_accuracy: 0.6848\n",
      "Epoch 13/50\n",
      "500/500 [==============================] - 6s 12ms/step - loss: 0.8293 - recall_6: 0.5502 - precision_6: 0.7116 - accuracy: 0.6542 - val_loss: 0.7430 - val_recall_6: 0.6351 - val_precision_6: 0.7679 - val_accuracy: 0.7156\n",
      "Epoch 14/50\n",
      "500/500 [==============================] - 6s 12ms/step - loss: 0.8157 - recall_6: 0.5712 - precision_6: 0.7234 - accuracy: 0.6654 - val_loss: 0.7550 - val_recall_6: 0.6374 - val_precision_6: 0.7664 - val_accuracy: 0.6825\n",
      "Epoch 15/50\n",
      "500/500 [==============================] - 6s 12ms/step - loss: 0.7964 - recall_6: 0.5794 - precision_6: 0.7250 - accuracy: 0.6670 - val_loss: 0.7095 - val_recall_6: 0.6185 - val_precision_6: 0.7373 - val_accuracy: 0.7085\n",
      "Epoch 16/50\n",
      "500/500 [==============================] - 6s 12ms/step - loss: 0.7816 - recall_6: 0.5870 - precision_6: 0.7310 - accuracy: 0.6816 - val_loss: 0.7023 - val_recall_6: 0.6611 - val_precision_6: 0.7772 - val_accuracy: 0.7299\n",
      "Epoch 17/50\n",
      "500/500 [==============================] - 6s 12ms/step - loss: 0.7845 - recall_6: 0.6010 - precision_6: 0.7369 - accuracy: 0.6820 - val_loss: 0.7016 - val_recall_6: 0.6635 - val_precision_6: 0.7955 - val_accuracy: 0.7393\n",
      "Epoch 18/50\n",
      "500/500 [==============================] - 6s 12ms/step - loss: 0.7573 - recall_6: 0.6060 - precision_6: 0.7452 - accuracy: 0.6914 - val_loss: 0.6770 - val_recall_6: 0.6730 - val_precision_6: 0.7911 - val_accuracy: 0.7393\n",
      "Epoch 19/50\n",
      "500/500 [==============================] - 6s 12ms/step - loss: 0.7419 - recall_6: 0.6220 - precision_6: 0.7487 - accuracy: 0.6980 - val_loss: 0.6962 - val_recall_6: 0.6706 - val_precision_6: 0.7949 - val_accuracy: 0.7370\n",
      "Epoch 20/50\n",
      "500/500 [==============================] - 6s 11ms/step - loss: 0.7452 - recall_6: 0.6282 - precision_6: 0.7504 - accuracy: 0.7032 - val_loss: 0.6692 - val_recall_6: 0.6801 - val_precision_6: 0.7820 - val_accuracy: 0.7322\n",
      "Epoch 21/50\n",
      "500/500 [==============================] - 6s 11ms/step - loss: 0.7125 - recall_6: 0.6470 - precision_6: 0.7592 - accuracy: 0.7118 - val_loss: 0.6428 - val_recall_6: 0.7038 - val_precision_6: 0.8071 - val_accuracy: 0.7630\n",
      "Epoch 22/50\n",
      "500/500 [==============================] - 6s 11ms/step - loss: 0.7238 - recall_6: 0.6360 - precision_6: 0.7571 - accuracy: 0.7044 - val_loss: 0.6540 - val_recall_6: 0.7038 - val_precision_6: 0.8159 - val_accuracy: 0.7512\n",
      "Epoch 23/50\n",
      "500/500 [==============================] - 6s 13ms/step - loss: 0.6972 - recall_6: 0.6558 - precision_6: 0.7735 - accuracy: 0.7282 - val_loss: 0.6025 - val_recall_6: 0.7275 - val_precision_6: 0.8320 - val_accuracy: 0.7891\n",
      "Epoch 24/50\n",
      "500/500 [==============================] - 6s 11ms/step - loss: 0.6892 - recall_6: 0.6636 - precision_6: 0.7754 - accuracy: 0.7286 - val_loss: 0.6243 - val_recall_6: 0.7227 - val_precision_6: 0.8069 - val_accuracy: 0.7654\n",
      "Epoch 25/50\n",
      "500/500 [==============================] - 6s 11ms/step - loss: 0.6882 - recall_6: 0.6666 - precision_6: 0.7780 - accuracy: 0.7244 - val_loss: 0.6090 - val_recall_6: 0.7227 - val_precision_6: 0.8402 - val_accuracy: 0.7749\n",
      "Epoch 26/50\n",
      "500/500 [==============================] - 6s 11ms/step - loss: 0.6850 - recall_6: 0.6728 - precision_6: 0.7836 - accuracy: 0.7376 - val_loss: 0.5956 - val_recall_6: 0.7322 - val_precision_6: 0.8262 - val_accuracy: 0.7796\n",
      "Epoch 27/50\n",
      "500/500 [==============================] - 6s 11ms/step - loss: 0.6827 - recall_6: 0.6738 - precision_6: 0.7809 - accuracy: 0.7316 - val_loss: 0.6157 - val_recall_6: 0.7204 - val_precision_6: 0.8150 - val_accuracy: 0.7654\n",
      "Epoch 28/50\n",
      "500/500 [==============================] - 6s 11ms/step - loss: 0.6672 - recall_6: 0.6756 - precision_6: 0.7789 - accuracy: 0.7354 - val_loss: 0.5843 - val_recall_6: 0.7299 - val_precision_6: 0.8170 - val_accuracy: 0.7773\n",
      "Epoch 29/50\n",
      "500/500 [==============================] - 5s 11ms/step - loss: 0.6581 - recall_6: 0.6846 - precision_6: 0.7856 - accuracy: 0.7424 - val_loss: 0.5984 - val_recall_6: 0.7346 - val_precision_6: 0.8267 - val_accuracy: 0.7701\n",
      "Epoch 30/50\n",
      "500/500 [==============================] - 6s 11ms/step - loss: 0.6581 - recall_6: 0.6826 - precision_6: 0.7815 - accuracy: 0.7380 - val_loss: 0.5724 - val_recall_6: 0.7536 - val_precision_6: 0.8281 - val_accuracy: 0.7962\n",
      "Epoch 31/50\n",
      "500/500 [==============================] - 6s 12ms/step - loss: 0.6528 - recall_6: 0.6880 - precision_6: 0.7899 - accuracy: 0.7450 - val_loss: 0.5609 - val_recall_6: 0.7583 - val_precision_6: 0.8625 - val_accuracy: 0.8152\n",
      "Epoch 32/50\n",
      "500/500 [==============================] - 6s 12ms/step - loss: 0.6450 - recall_6: 0.6908 - precision_6: 0.7871 - accuracy: 0.7464 - val_loss: 0.5402 - val_recall_6: 0.7796 - val_precision_6: 0.8568 - val_accuracy: 0.8128\n",
      "Epoch 33/50\n",
      "500/500 [==============================] - 6s 12ms/step - loss: 0.6332 - recall_6: 0.6998 - precision_6: 0.7881 - accuracy: 0.7494 - val_loss: 0.5687 - val_recall_6: 0.7536 - val_precision_6: 0.8217 - val_accuracy: 0.7820\n",
      "Epoch 34/50\n",
      "500/500 [==============================] - 6s 12ms/step - loss: 0.6387 - recall_6: 0.6918 - precision_6: 0.7879 - accuracy: 0.7436 - val_loss: 0.5388 - val_recall_6: 0.7725 - val_precision_6: 0.8556 - val_accuracy: 0.8057\n",
      "Epoch 35/50\n",
      "500/500 [==============================] - 6s 12ms/step - loss: 0.6314 - recall_6: 0.7058 - precision_6: 0.8013 - accuracy: 0.7584 - val_loss: 0.5419 - val_recall_6: 0.7725 - val_precision_6: 0.8402 - val_accuracy: 0.7986\n",
      "Epoch 36/50\n",
      "500/500 [==============================] - 6s 12ms/step - loss: 0.6298 - recall_6: 0.6998 - precision_6: 0.7931 - accuracy: 0.7514 - val_loss: 0.5424 - val_recall_6: 0.7583 - val_precision_6: 0.8421 - val_accuracy: 0.8081\n",
      "Epoch 37/50\n",
      "500/500 [==============================] - 6s 11ms/step - loss: 0.6233 - recall_6: 0.7036 - precision_6: 0.7994 - accuracy: 0.7598 - val_loss: 0.5201 - val_recall_6: 0.7844 - val_precision_6: 0.8597 - val_accuracy: 0.8081\n",
      "Epoch 38/50\n",
      "500/500 [==============================] - 5s 11ms/step - loss: 0.6011 - recall_6: 0.7190 - precision_6: 0.8079 - accuracy: 0.7620 - val_loss: 0.5485 - val_recall_6: 0.7559 - val_precision_6: 0.8373 - val_accuracy: 0.7962\n",
      "Epoch 39/50\n",
      "500/500 [==============================] - 6s 12ms/step - loss: 0.6188 - recall_6: 0.7162 - precision_6: 0.8036 - accuracy: 0.7602 - val_loss: 0.5570 - val_recall_6: 0.7536 - val_precision_6: 0.8325 - val_accuracy: 0.7962\n",
      "Epoch 40/50\n",
      "500/500 [==============================] - 7s 13ms/step - loss: 0.6075 - recall_6: 0.7170 - precision_6: 0.8013 - accuracy: 0.7598 - val_loss: 0.5177 - val_recall_6: 0.7915 - val_precision_6: 0.8586 - val_accuracy: 0.8270\n",
      "Epoch 41/50\n",
      "500/500 [==============================] - 6s 13ms/step - loss: 0.5907 - recall_6: 0.7178 - precision_6: 0.8069 - accuracy: 0.7636 - val_loss: 0.5271 - val_recall_6: 0.7749 - val_precision_6: 0.8494 - val_accuracy: 0.8152\n",
      "Epoch 42/50\n",
      "500/500 [==============================] - 6s 12ms/step - loss: 0.6100 - recall_6: 0.7142 - precision_6: 0.8005 - accuracy: 0.7628 - val_loss: 0.5272 - val_recall_6: 0.7701 - val_precision_6: 0.8355 - val_accuracy: 0.8009\n",
      "Epoch 43/50\n",
      "500/500 [==============================] - 6s 11ms/step - loss: 0.6022 - recall_6: 0.7138 - precision_6: 0.8006 - accuracy: 0.7578 - val_loss: 0.5216 - val_recall_6: 0.7749 - val_precision_6: 0.8560 - val_accuracy: 0.8009\n",
      "Epoch 44/50\n",
      "500/500 [==============================] - 6s 11ms/step - loss: 0.5847 - recall_6: 0.7202 - precision_6: 0.8051 - accuracy: 0.7694 - val_loss: 0.5143 - val_recall_6: 0.7725 - val_precision_6: 0.8579 - val_accuracy: 0.8104\n",
      "Epoch 45/50\n",
      "500/500 [==============================] - 6s 12ms/step - loss: 0.5853 - recall_6: 0.7316 - precision_6: 0.8113 - accuracy: 0.7766 - val_loss: 0.5177 - val_recall_6: 0.7773 - val_precision_6: 0.8586 - val_accuracy: 0.8223\n",
      "Epoch 46/50\n",
      "500/500 [==============================] - 6s 12ms/step - loss: 0.5759 - recall_6: 0.7342 - precision_6: 0.8125 - accuracy: 0.7770 - val_loss: 0.4839 - val_recall_6: 0.7938 - val_precision_6: 0.8612 - val_accuracy: 0.8199\n",
      "Epoch 47/50\n",
      "500/500 [==============================] - 6s 12ms/step - loss: 0.5865 - recall_6: 0.7224 - precision_6: 0.8036 - accuracy: 0.7648 - val_loss: 0.4826 - val_recall_6: 0.8081 - val_precision_6: 0.8699 - val_accuracy: 0.8436\n",
      "Epoch 48/50\n",
      "500/500 [==============================] - 6s 12ms/step - loss: 0.5706 - recall_6: 0.7352 - precision_6: 0.8185 - accuracy: 0.7790 - val_loss: 0.4689 - val_recall_6: 0.7938 - val_precision_6: 0.8793 - val_accuracy: 0.8389\n",
      "Epoch 49/50\n",
      "500/500 [==============================] - 6s 11ms/step - loss: 0.5785 - recall_6: 0.7282 - precision_6: 0.8116 - accuracy: 0.7724 - val_loss: 0.4927 - val_recall_6: 0.7962 - val_precision_6: 0.8528 - val_accuracy: 0.8128\n",
      "Epoch 50/50\n",
      "500/500 [==============================] - 6s 11ms/step - loss: 0.5897 - recall_6: 0.7304 - precision_6: 0.8172 - accuracy: 0.7764 - val_loss: 0.4924 - val_recall_6: 0.8033 - val_precision_6: 0.8648 - val_accuracy: 0.8294\n"
     ]
    }
   ],
   "source": [
    "classifier = model.fit(train_dataset, epochs=50, validation_data=test_dataset)"
   ]
  },
  {
   "cell_type": "code",
   "execution_count": 174,
   "metadata": {},
   "outputs": [
    {
     "name": "stdout",
     "output_type": "stream",
     "text": [
      "['loss', 'recall_6', 'precision_6', 'accuracy']\n"
     ]
    }
   ],
   "source": [
    "print(model.metrics_names)"
   ]
  },
  {
   "cell_type": "code",
   "execution_count": 175,
   "metadata": {},
   "outputs": [
    {
     "name": "stdout",
     "output_type": "stream",
     "text": [
      "14/14 [==============================] - 0s 3ms/step\n"
     ]
    }
   ],
   "source": [
    "pred_y = model.predict(test_x)\n",
    "true_y = test_y.argmax(axis=1, keepdims=True)"
   ]
  },
  {
   "cell_type": "code",
   "execution_count": 176,
   "metadata": {},
   "outputs": [
    {
     "data": {
      "image/png": "[encoded data removed]",
      "text/plain": [
       "<Figure size 640x480 with 1 Axes>"
      ]
     },
     "metadata": {},
     "output_type": "display_data"
    }
   ],
   "source": [
    "plt.title('Loss')\n",
    "plt.plot(classifier.history['loss'], 'r', label='Overall Loss')\n",
    "plt.plot(classifier.history['val_loss'], 'b', label='Loss Value per Epoch')\n",
    "plt.xlabel('Epoch')\n",
    "plt.ylabel('Value')\n",
    "plt.legend()\n",
    "plt.show()"
   ]
  },
  {
   "cell_type": "code",
   "execution_count": 178,
   "metadata": {},
   "outputs": [
    {
     "data": {
      "image/png": "[encoded data removed]",
      "text/plain": [
       "<Figure size 640x480 with 1 Axes>"
      ]
     },
     "metadata": {},
     "output_type": "display_data"
    }
   ],
   "source": [
    "plt.title('Precision')\n",
    "plt.plot(classifier.history['precision_6'], 'r', label='Overall Precision')\n",
    "plt.plot(classifier.history['val_precision_6'], 'b', label='Precision Value per Epoch')\n",
    "plt.xlabel('Epoch')\n",
    "plt.ylabel('Value')\n",
    "plt.legend()\n",
    "plt.show()"
   ]
  },
  {
   "cell_type": "code",
   "execution_count": 188,
   "metadata": {},
   "outputs": [
    {
     "name": "stdout",
     "output_type": "stream",
     "text": [
      "1/1 [==============================] - 0s 22ms/step\n",
      "[3]\n",
      "Song Sparrow\n"
     ]
    }
   ],
   "source": [
    "#manual testing for random\n",
    "audio_file = 'wavfiles/111649-2.wav'\n",
    "feature = features_extractor(audio_file)\n",
    "mfccs_scaled_features=feature.reshape(1,-1)\n",
    "normalized_data = tf.keras.utils.normalize(mfccs_scaled_features)\n",
    "\n",
    "bird_list = [\"Bewick's Wren\", \"Northern Mockingbird\", \"American Robin\", \"Song Sparrow\", \"Northern Cardinal\"]\n",
    "\n",
    "test=model.predict(normalized_data)\n",
    "predicted_class = np.argmax(test, axis=1)\n",
    "print(predicted_class)\n",
    "predicted_bird = bird_list[predicted_class[0]]\n",
    "print(predicted_bird)\n",
    "# print(test[0][0])\n",
    "\n",
    "# print(test)"
   ]
  },
  {
   "cell_type": "code",
   "execution_count": null,
   "metadata": {},
   "outputs": [],
   "source": []
  }
 ],
 "metadata": {
  "kernelspec": {
   "display_name": "birdSound",
   "language": "python",
   "name": "python3"
  },
  "language_info": {
   "codemirror_mode": {
    "name": "ipython",
    "version": 3
   },
   "file_extension": ".py",
   "mimetype": "text/x-python",
   "name": "python",
   "nbconvert_exporter": "python",
   "pygments_lexer": "ipython3",
   "version": "3.8.19"
  }
 },
 "nbformat": 4,
 "nbformat_minor": 2
}
